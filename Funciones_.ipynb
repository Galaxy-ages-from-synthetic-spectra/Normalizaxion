{
  "nbformat": 4,
  "nbformat_minor": 0,
  "metadata": {
    "colab": {
      "provenance": []
    },
    "kernelspec": {
      "name": "python3",
      "display_name": "Python 3"
    },
    "language_info": {
      "name": "python"
    }
  },
  "cells": [
    {
      "cell_type": "code",
      "execution_count": 9,
      "metadata": {
        "id": "p11TXgNbIAG8"
      },
      "outputs": [],
      "source": [
        "from astropy import units as u\n",
        "\n",
        "# Función de la relación entre masa y luminosidad\n",
        "\n",
        "def Mass_L(M):\n",
        "  if M <= 0.43*u.solMass:\n",
        "    L = 0.23*u.L_sun*(M/u.solMass)**2.3\n",
        "  elif ((0.43*u.solMass < M) and (M <= 2*u.solMass)):\n",
        "    L = u.L_sun*(M/u.solMass)**4\n",
        "  elif ((2*u.solMass < M) and (M <= 55*u.solMass)):\n",
        "    L = u.L_sun*1.4*(M/u.solMass)**3.5\n",
        "  else:\n",
        "    L = u.L_sun*32000*(M/u.solMass)\n",
        "\n",
        "  return L\n",
        "\n",
        "\n",
        "# Funcion que entrega el tiempo de vida de una estrella en la secuencia principal\n",
        "\n",
        "def Time_SP(M):\n",
        "  L = Mass_L(M)\n",
        "  return (M/L).to(Gyr)\n",
        "\n"
      ]
    },
    {
      "cell_type": "code",
      "source": [],
      "metadata": {
        "colab": {
          "base_uri": "https://localhost:8080/"
        },
        "id": "IzXEhRp_f1sT",
        "outputId": "713c9105-d852-4e48-b331-28569a08e6fe"
      },
      "execution_count": 8,
      "outputs": [
        {
          "output_type": "execute_result",
          "data": {
            "text/plain": [
              "1000000000.0"
            ]
          },
          "metadata": {},
          "execution_count": 8
        }
      ]
    }
  ]
}